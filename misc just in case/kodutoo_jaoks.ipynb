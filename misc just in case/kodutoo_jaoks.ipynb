{
 "cells": [
  {
   "cell_type": "code",
   "execution_count": 1,
   "metadata": {},
   "outputs": [],
   "source": [
    "import pandas as pd\n",
    "\n"
   ]
  },
  {
   "cell_type": "code",
   "execution_count": 4,
   "metadata": {},
   "outputs": [],
   "source": [
    "data = pd.read_csv(\"../data/train.csv\")\n",
    "clean_data = pd.read_csv(\"../data/preprocessed_data.csv\")"
   ]
  },
  {
   "cell_type": "code",
   "execution_count": 3,
   "metadata": {},
   "outputs": [
    {
     "data": {
      "text/plain": [
       "Age\n",
       "56.0    5246\n",
       "49.0    5099\n",
       "38.0    4564\n",
       "53.0    4526\n",
       "57.0    4395\n",
       "47.0    4199\n",
       "46.0    4080\n",
       "54.0    3928\n",
       "51.0    3927\n",
       "18.0    3921\n",
       "43.0    3856\n",
       "59.0    3781\n",
       "48.0    3695\n",
       "45.0    3535\n",
       "20.0    3515\n",
       "50.0    3439\n",
       "42.0    3393\n",
       "24.0    3355\n",
       "28.0    3338\n",
       "39.0    3262\n",
       "44.0    3217\n",
       "41.0    3140\n",
       "33.0    3140\n",
       "29.0    3097\n",
       "40.0    3094\n",
       "58.0    2932\n",
       "25.0    2931\n",
       "23.0    2900\n",
       "55.0    2846\n",
       "35.0    2834\n",
       "21.0    2742\n",
       "37.0    2724\n",
       "36.0    2703\n",
       "19.0    2634\n",
       "27.0    2613\n",
       "52.0    2589\n",
       "34.0    2578\n",
       "31.0    2560\n",
       "60.0    2501\n",
       "26.0    2108\n",
       "22.0    2066\n",
       "30.0    1912\n",
       "32.0    1785\n",
       "Name: count, dtype: int64"
      ]
     },
     "execution_count": 3,
     "metadata": {},
     "output_type": "execute_result"
    }
   ],
   "source": [
    "data.Age.value_counts()"
   ]
  },
  {
   "cell_type": "code",
   "execution_count": 5,
   "metadata": {},
   "outputs": [
    {
     "data": {
      "text/plain": [
       "City\n",
       "Kalyan         6591\n",
       "Patna          5924\n",
       "Vasai-Virar    5765\n",
       "Kolkata        5689\n",
       "Ahmedabad      5613\n",
       "               ... \n",
       "Shrey             1\n",
       "Ivaan             1\n",
       "Vaanya            1\n",
       "Gaurav            1\n",
       "Unirar            1\n",
       "Name: count, Length: 98, dtype: int64"
      ]
     },
     "execution_count": 5,
     "metadata": {},
     "output_type": "execute_result"
    }
   ],
   "source": [
    "data.City.value_counts()"
   ]
  },
  {
   "cell_type": "code",
   "execution_count": 6,
   "metadata": {},
   "outputs": [
    {
     "data": {
      "text/plain": [
       "City\n",
       "0.195089    1378\n",
       "0.204167    1360\n",
       "0.201641    1347\n",
       "0.198985    1269\n",
       "0.198469    1235\n",
       "            ... \n",
       "0.181713      53\n",
       "0.000000      25\n",
       "1.000000       8\n",
       "0.500000       6\n",
       "0.200000       4\n",
       "Name: count, Length: 155, dtype: int64"
      ]
     },
     "execution_count": 6,
     "metadata": {},
     "output_type": "execute_result"
    }
   ],
   "source": [
    "clean_data.City.value_counts()"
   ]
  },
  {
   "cell_type": "code",
   "execution_count": 7,
   "metadata": {},
   "outputs": [
    {
     "data": {
      "text/plain": [
       "98"
      ]
     },
     "execution_count": 7,
     "metadata": {},
     "output_type": "execute_result"
    }
   ],
   "source": [
    "data.City.nunique()"
   ]
  },
  {
   "cell_type": "code",
   "execution_count": 8,
   "metadata": {},
   "outputs": [
    {
     "data": {
      "text/plain": [
       "Working Professional or Student\n",
       "Working Professional    112799\n",
       "Student                  27901\n",
       "Name: count, dtype: int64"
      ]
     },
     "execution_count": 8,
     "metadata": {},
     "output_type": "execute_result"
    }
   ],
   "source": [
    "data[\"Working Professional or Student\"].value_counts()"
   ]
  },
  {
   "cell_type": "code",
   "execution_count": 9,
   "metadata": {},
   "outputs": [
    {
     "data": {
      "text/plain": [
       "Profession\n",
       "Teacher           24906\n",
       "Content Writer     7814\n",
       "Architect          4370\n",
       "Consultant         4229\n",
       "HR Manager         4022\n",
       "                  ...  \n",
       "BBA                   1\n",
       "City Manager          1\n",
       "FamilyVirar           1\n",
       "B.Com                 1\n",
       "Yuvraj                1\n",
       "Name: count, Length: 64, dtype: int64"
      ]
     },
     "execution_count": 9,
     "metadata": {},
     "output_type": "execute_result"
    }
   ],
   "source": [
    "data.Profession.value_counts()"
   ]
  },
  {
   "cell_type": "code",
   "execution_count": 10,
   "metadata": {},
   "outputs": [
    {
     "data": {
      "text/plain": [
       "np.int64(36630)"
      ]
     },
     "execution_count": 10,
     "metadata": {},
     "output_type": "execute_result"
    }
   ],
   "source": [
    "data.Profession.isna().sum()"
   ]
  },
  {
   "cell_type": "code",
   "execution_count": 11,
   "metadata": {},
   "outputs": [
    {
     "data": {
      "text/plain": [
       "np.int64(112803)"
      ]
     },
     "execution_count": 11,
     "metadata": {},
     "output_type": "execute_result"
    }
   ],
   "source": [
    "data[\"Academic Pressure\"].isna().sum()"
   ]
  },
  {
   "cell_type": "code",
   "execution_count": 12,
   "metadata": {},
   "outputs": [
    {
     "data": {
      "text/plain": [
       "Work Pressure\n",
       "2.0    24373\n",
       "4.0    22512\n",
       "5.0    22436\n",
       "3.0    21899\n",
       "1.0    21562\n",
       "Name: count, dtype: int64"
      ]
     },
     "execution_count": 12,
     "metadata": {},
     "output_type": "execute_result"
    }
   ],
   "source": [
    "data[\"Work Pressure\"].value_counts()"
   ]
  },
  {
   "cell_type": "code",
   "execution_count": 13,
   "metadata": {},
   "outputs": [
    {
     "data": {
      "text/plain": [
       "Study Satisfaction\n",
       "4.0    6360\n",
       "2.0    5840\n",
       "3.0    5823\n",
       "1.0    5451\n",
       "5.0    4423\n",
       "Name: count, dtype: int64"
      ]
     },
     "execution_count": 13,
     "metadata": {},
     "output_type": "execute_result"
    }
   ],
   "source": [
    "data[\"Study Satisfaction\"].value_counts()"
   ]
  },
  {
   "cell_type": "code",
   "execution_count": 15,
   "metadata": {},
   "outputs": [
    {
     "data": {
      "text/plain": [
       "np.int64(27910)"
      ]
     },
     "execution_count": 15,
     "metadata": {},
     "output_type": "execute_result"
    }
   ],
   "source": [
    "data[\"Job Satisfaction\"].isna().sum()"
   ]
  },
  {
   "cell_type": "code",
   "execution_count": 16,
   "metadata": {},
   "outputs": [
    {
     "data": {
      "text/plain": [
       "CGPA\n",
       "8.0400    822\n",
       "9.9600    425\n",
       "5.7400    410\n",
       "8.9500    371\n",
       "9.2100    343\n",
       "         ... \n",
       "6.6400      1\n",
       "7.0625      1\n",
       "6.9800      1\n",
       "6.4400      1\n",
       "6.0900      1\n",
       "Name: count, Length: 331, dtype: int64"
      ]
     },
     "execution_count": 16,
     "metadata": {},
     "output_type": "execute_result"
    }
   ],
   "source": [
    "data[\"CGPA\"].value_counts()"
   ]
  },
  {
   "cell_type": "code",
   "execution_count": 17,
   "metadata": {},
   "outputs": [
    {
     "data": {
      "text/plain": [
       "np.float64(5.03)"
      ]
     },
     "execution_count": 17,
     "metadata": {},
     "output_type": "execute_result"
    }
   ],
   "source": [
    "data.CGPA.min()"
   ]
  },
  {
   "cell_type": "code",
   "execution_count": 18,
   "metadata": {},
   "outputs": [
    {
     "data": {
      "text/plain": [
       "np.float64(10.0)"
      ]
     },
     "execution_count": 18,
     "metadata": {},
     "output_type": "execute_result"
    }
   ],
   "source": [
    "data.CGPA.max()"
   ]
  },
  {
   "cell_type": "code",
   "execution_count": 19,
   "metadata": {},
   "outputs": [
    {
     "data": {
      "text/plain": [
       "np.int64(112802)"
      ]
     },
     "execution_count": 19,
     "metadata": {},
     "output_type": "execute_result"
    }
   ],
   "source": [
    "data.CGPA.isna().sum()"
   ]
  },
  {
   "cell_type": "code",
   "execution_count": 20,
   "metadata": {},
   "outputs": [
    {
     "data": {
      "text/plain": [
       "Sleep Duration\n",
       "Less than 5 hours    38784\n",
       "7-8 hours            36969\n",
       "More than 8 hours    32726\n",
       "5-6 hours            32142\n",
       "3-4 hours               12\n",
       "6-7 hours                8\n",
       "4-5 hours                7\n",
       "2-3 hours                5\n",
       "4-6 hours                5\n",
       "6-8 hours                4\n",
       "1-6 hours                4\n",
       "No                       4\n",
       "9-11 hours               2\n",
       "10-11 hours              2\n",
       "Sleep_Duration           2\n",
       "Unhealthy                2\n",
       "45                       2\n",
       "8-9 hours                2\n",
       "10-6 hours               1\n",
       "9-5                      1\n",
       "45-48 hours              1\n",
       "3-6 hours                1\n",
       "Work_Study_Hours         1\n",
       "49 hours                 1\n",
       "than 5 hours             1\n",
       "Pune                     1\n",
       "9-6 hours                1\n",
       "8 hours                  1\n",
       "35-36 hours              1\n",
       "Indore                   1\n",
       "1-3 hours                1\n",
       "55-66 hours              1\n",
       "Moderate                 1\n",
       "40-45 hours              1\n",
       "1-2 hours                1\n",
       "9-5 hours                1\n",
       "Name: count, dtype: int64"
      ]
     },
     "execution_count": 20,
     "metadata": {},
     "output_type": "execute_result"
    }
   ],
   "source": [
    "data[\"Sleep Duration\"].value_counts()"
   ]
  },
  {
   "cell_type": "code",
   "execution_count": 21,
   "metadata": {},
   "outputs": [
    {
     "data": {
      "text/plain": [
       "Dietary Habits\n",
       "Moderate             49705\n",
       "Unhealthy            46227\n",
       "Healthy              44741\n",
       "Yes                      2\n",
       "No                       2\n",
       "More Healthy             2\n",
       "No Healthy               1\n",
       "Class 12                 1\n",
       "Indoor                   1\n",
       "Male                     1\n",
       "Vegas                    1\n",
       "M.Tech                   1\n",
       "Less Healthy             1\n",
       "1.0                      1\n",
       "Electrician              1\n",
       "Hormonal                 1\n",
       "Mihir                    1\n",
       "Less than Healthy        1\n",
       "3                        1\n",
       "Gender                   1\n",
       "BSc                      1\n",
       "Pratham                  1\n",
       "2                        1\n",
       "Name: count, dtype: int64"
      ]
     },
     "execution_count": 21,
     "metadata": {},
     "output_type": "execute_result"
    }
   ],
   "source": [
    "data[\"Dietary Habits\"].value_counts()"
   ]
  },
  {
   "cell_type": "code",
   "execution_count": 22,
   "metadata": {},
   "outputs": [
    {
     "data": {
      "text/plain": [
       "Degree\n",
       "Class 12    14729\n",
       "B.Ed        11691\n",
       "B.Arch       8742\n",
       "B.Com        8113\n",
       "B.Pharm      5856\n",
       "            ...  \n",
       "Vivaan          1\n",
       "MTech           1\n",
       "29              1\n",
       "LLCom           1\n",
       "Advait          1\n",
       "Name: count, Length: 115, dtype: int64"
      ]
     },
     "execution_count": 22,
     "metadata": {},
     "output_type": "execute_result"
    }
   ],
   "source": [
    "data[\"Degree\"].value_counts()"
   ]
  },
  {
   "cell_type": "code",
   "execution_count": 23,
   "metadata": {},
   "outputs": [
    {
     "data": {
      "text/plain": [
       "Have you ever had suicidal thoughts ?\n",
       "No     71138\n",
       "Yes    69562\n",
       "Name: count, dtype: int64"
      ]
     },
     "execution_count": 23,
     "metadata": {},
     "output_type": "execute_result"
    }
   ],
   "source": [
    "data[\"Have you ever had suicidal thoughts ?\"].value_counts()"
   ]
  },
  {
   "cell_type": "code",
   "execution_count": null,
   "metadata": {},
   "outputs": [],
   "source": [
    "data[\"Work/Study Hours\"]"
   ]
  }
 ],
 "metadata": {
  "kernelspec": {
   "display_name": "Python 3",
   "language": "python",
   "name": "python3"
  },
  "language_info": {
   "codemirror_mode": {
    "name": "ipython",
    "version": 3
   },
   "file_extension": ".py",
   "mimetype": "text/x-python",
   "name": "python",
   "nbconvert_exporter": "python",
   "pygments_lexer": "ipython3",
   "version": "3.12.0"
  }
 },
 "nbformat": 4,
 "nbformat_minor": 2
}
